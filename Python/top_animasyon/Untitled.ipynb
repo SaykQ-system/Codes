{
 "cells": [
  {
   "cell_type": "code",
   "execution_count": null,
   "metadata": {},
   "outputs": [],
   "source": [
    "import arcade\n",
    "\n",
    "WIDTH = 900\n",
    "HEIGHT = 700\n",
    "TITLE = \"Topsek\"\n",
    "\n",
    "topcap = 50\n",
    "yercekim = 0.6\n",
    "sekme = 0.9\n",
    "\n",
    "def draw(_delta_time):\n",
    "    arcade.start_render()\n",
    "    arcade.draw_circle_filled(draw.x, draw.y, topcap, arcade.color.ORANGE)\n",
    "    draw.x += draw.delta_x\n",
    "    draw.y += draw.delta_y\n",
    "    draw.delta_y -= yercekim\n",
    "    \n",
    "    if draw.x < topcap and draw.delta_x < 0:\n",
    "        draw.delta_x *= -sekme\n",
    "    elif draw.x > WIDTH - topcap and draw.delta_x > 0:\n",
    "        draw.delta_x *= -sekme\n",
    "        \n",
    "    if draw.y < topcap and draw.delta_y < 0:\n",
    "        if draw.delta_y * -1 > yercekim * 15:\n",
    "            draw.delta_y *= -sekme\n",
    "        else:\n",
    "            draw.delta_y *= -sekme / 2\n",
    "            \n",
    "draw.x = topcap\n",
    "draw.y = HEIGHT\n",
    "draw.delta_x = 3\n",
    "draw.delta_y = 3\n",
    "\n",
    "def main():\n",
    "    arcade.open_window(WIDTH, HEIGHT, TITLE)\n",
    "    arcade.set_background_color(arcade.color.BLACK)\n",
    "    arcade.schedule(draw, 1 / 80)\n",
    "    arcade.run()\n",
    "    arcade.close_window()\n",
    "main()"
   ]
  },
  {
   "cell_type": "code",
   "execution_count": null,
   "metadata": {},
   "outputs": [],
   "source": []
  },
  {
   "cell_type": "code",
   "execution_count": null,
   "metadata": {},
   "outputs": [],
   "source": []
  }
 ],
 "metadata": {
  "kernelspec": {
   "display_name": "Python 3",
   "language": "python",
   "name": "python3"
  },
  "language_info": {
   "codemirror_mode": {
    "name": "ipython",
    "version": 3
   },
   "file_extension": ".py",
   "mimetype": "text/x-python",
   "name": "python",
   "nbconvert_exporter": "python",
   "pygments_lexer": "ipython3",
   "version": "3.8.3"
  }
 },
 "nbformat": 4,
 "nbformat_minor": 4
}
